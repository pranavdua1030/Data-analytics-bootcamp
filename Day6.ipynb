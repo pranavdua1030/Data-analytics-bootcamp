{
 "cells": [
  {
   "cell_type": "code",
   "execution_count": 1,
   "id": "b433f389-45e8-42cf-879c-f4fd4588f796",
   "metadata": {},
   "outputs": [
    {
     "name": "stdout",
     "output_type": "stream",
     "text": [
      "[1, 2, 3, 4, 5, 6]\n"
     ]
    }
   ],
   "source": [
    "#2\n",
    "a=[1,2,3]\n",
    "b=[4,5,6]\n",
    "a.extend(b)\n",
    "print(a)"
   ]
  },
  {
   "cell_type": "code",
   "execution_count": 2,
   "id": "243a7c6f-cc62-4ec4-b16a-5a75c5b8c98e",
   "metadata": {},
   "outputs": [
    {
     "name": "stdout",
     "output_type": "stream",
     "text": [
      "[10, 20, 25, 30, 40]\n"
     ]
    }
   ],
   "source": [
    "#3\n",
    "l=[10,20,30,40]\n",
    "l.insert(2,25)\n",
    "print(l)"
   ]
  },
  {
   "cell_type": "code",
   "execution_count": 3,
   "id": "7ede4e4a-23dc-4aac-b576-2d478564e14a",
   "metadata": {},
   "outputs": [
    {
     "name": "stdout",
     "output_type": "stream",
     "text": [
      "[10, 30, 20, 40]\n"
     ]
    }
   ],
   "source": [
    "#4\n",
    "l=[10,20,30,20,40]\n",
    "l.remove(20)\n",
    "print(l)"
   ]
  },
  {
   "cell_type": "code",
   "execution_count": 6,
   "id": "75d5d611-29ff-4a54-9232-f0f8bd03d278",
   "metadata": {},
   "outputs": [
    {
     "name": "stdout",
     "output_type": "stream",
     "text": [
      "[1, 2, 3, 4]\n",
      "4\n"
     ]
    }
   ],
   "source": [
    "#5\n",
    "l=[1,2,3,4,5]\n",
    "l.pop(4)\n",
    "print(l)\n",
    "print(l.pop())"
   ]
  },
  {
   "cell_type": "code",
   "execution_count": 17,
   "id": "154383c7-57d8-4dbc-9f03-db1b5cbed34c",
   "metadata": {},
   "outputs": [
    {
     "name": "stdout",
     "output_type": "stream",
     "text": [
      "2\n"
     ]
    }
   ],
   "source": [
    "#6\n",
    "l=[5,10,15,20,25]\n",
    "print(l.index(15))"
   ]
  },
  {
   "cell_type": "code",
   "execution_count": 7,
   "id": "2b46737b-378e-496b-8af7-c350eeac81b3",
   "metadata": {},
   "outputs": [
    {
     "name": "stdout",
     "output_type": "stream",
     "text": [
      "4\n"
     ]
    }
   ],
   "source": [
    "#7\n",
    "l=[1,2,2,3,2,4,2]\n",
    "l.count(2)\n",
    "print(l.count(2))"
   ]
  },
  {
   "cell_type": "code",
   "execution_count": 8,
   "id": "0bdfd4d3-d38b-4056-8306-daa90a079b0d",
   "metadata": {},
   "outputs": [
    {
     "name": "stdout",
     "output_type": "stream",
     "text": [
      "[3, 5, 7, 10]\n"
     ]
    }
   ],
   "source": [
    "#8 #ascending\n",
    "l=[10,5,7,3]\n",
    "l.sort()\n",
    "print(l)"
   ]
  },
  {
   "cell_type": "code",
   "execution_count": 10,
   "id": "8e5d1607-974d-4c34-93f5-209f05cb38cb",
   "metadata": {},
   "outputs": [
    {
     "name": "stdout",
     "output_type": "stream",
     "text": [
      "[10, 7, 5, 3]\n"
     ]
    }
   ],
   "source": [
    "#descending\n",
    "l=[10,5,7,3]\n",
    "l.sort(reverse= True)\n",
    "print(l)\n"
   ]
  },
  {
   "cell_type": "code",
   "execution_count": 11,
   "id": "a88b16b0-8ca3-4ff0-89fe-7dc7947b5242",
   "metadata": {},
   "outputs": [
    {
     "name": "stdout",
     "output_type": "stream",
     "text": [
      "[5, 4, 3, 2, 1]\n"
     ]
    }
   ],
   "source": [
    "#9\n",
    "l=[1,2,3,4,5]\n",
    "l. reverse()\n",
    "print(l)"
   ]
  },
  {
   "cell_type": "code",
   "execution_count": 12,
   "id": "72acd876-485d-431d-b674-970d8267bf75",
   "metadata": {},
   "outputs": [
    {
     "name": "stdout",
     "output_type": "stream",
     "text": [
      "[1, 2, 3]\n"
     ]
    }
   ],
   "source": [
    "#10\n",
    "l=[1,2,3]\n",
    "l. copy ()\n",
    "print(l)"
   ]
  },
  {
   "cell_type": "code",
   "execution_count": 18,
   "id": "9e3a7e18-410e-4916-806d-c73c722552bf",
   "metadata": {},
   "outputs": [
    {
     "name": "stdin",
     "output_type": "stream",
     "text": [
      "Enter item 1:  1\n",
      "Enter item 2:  4\n",
      "Enter item 3:  5\n",
      "Enter item 4:  8\n",
      "Enter item 5:  9\n"
     ]
    },
    {
     "name": "stdout",
     "output_type": "stream",
     "text": [
      "The list is: ['1', '4', '5', '8', '9']\n"
     ]
    }
   ],
   "source": [
    "#1\n",
    "plist = []\n",
    "\n",
    "for i in range(5):\n",
    "    item = input(f\"Enter item {i+1}: \")\n",
    "    plist.append(item)\n",
    "\n",
    "print(\"The list is:\", plist)\n"
   ]
  },
  {
   "cell_type": "code",
   "execution_count": 19,
   "id": "b9a61dee-b8e3-40af-8913-bfccaa0a2039",
   "metadata": {},
   "outputs": [
    {
     "name": "stdout",
     "output_type": "stream",
     "text": [
      "Enter 10 integers:\n"
     ]
    },
    {
     "name": "stdin",
     "output_type": "stream",
     "text": [
      "Enter number 1:  1\n",
      "Enter number 2:  3\n",
      "Enter number 3:  56\n",
      "Enter number 4:  75\n",
      "Enter number 5:  67\n",
      "Enter number 6:  56\n",
      "Enter number 7:  79\n",
      "Enter number 8:  98\n",
      "Enter number 9:  97\n",
      "Enter number 10:  34\n"
     ]
    },
    {
     "name": "stdout",
     "output_type": "stream",
     "text": [
      "Second largest number is: 97\n"
     ]
    }
   ],
   "source": [
    "#11\n",
    "numbers = []\n",
    "\n",
    "print(\"Enter 10 integers:\")\n",
    "for i in range(10):\n",
    "    num = int(input(f\"Enter number {i+1}: \"))\n",
    "    numbers.append(num)\n",
    "\n",
    "maxnum = max(numbers)\n",
    "numbers.remove(maxnum)\n",
    "secondlargest = max(numbers)\n",
    "\n",
    "print(\"Second largest number is:\", secondlargest)\n"
   ]
  },
  {
   "cell_type": "code",
   "execution_count": 20,
   "id": "54c7a451-8b3b-4a7d-ba98-bd2c1c9ad51b",
   "metadata": {},
   "outputs": [
    {
     "name": "stdin",
     "output_type": "stream",
     "text": [
      "How many numbers you want to enter?  10\n"
     ]
    },
    {
     "name": "stdout",
     "output_type": "stream",
     "text": [
      "Enter the numbers:\n"
     ]
    },
    {
     "name": "stdin",
     "output_type": "stream",
     "text": [
      "Number 1:  22\n",
      "Number 2:  4\n",
      "Number 3:  5\n",
      "Number 4:  6\n",
      "Number 5:  8\n",
      "Number 6:  9\n",
      "Number 7:  3\n",
      "Number 8:  6\n",
      "Number 9:  3\n",
      "Number 10:  34\n"
     ]
    },
    {
     "name": "stdout",
     "output_type": "stream",
     "text": [
      "List after removing even numbers: [5, 9, 3, 3]\n"
     ]
    }
   ],
   "source": [
    "#12\n",
    "numbers = []\n",
    "\n",
    "n = int(input(\"How many numbers you want to enter? \"))\n",
    "print(\"Enter the numbers:\")\n",
    "for i in range(n):\n",
    "    num = int(input(f\"Number {i+1}: \"))\n",
    "    numbers.append(num)\n",
    "\n",
    "updated_list = [x for x in numbers if x % 2 != 0]\n",
    "\n",
    "print(\"List after removing even numbers:\", updated_list)\n"
   ]
  },
  {
   "cell_type": "code",
   "execution_count": 21,
   "id": "6cf44645-b207-4432-953c-75f94c80924b",
   "metadata": {},
   "outputs": [
    {
     "name": "stdout",
     "output_type": "stream",
     "text": [
      "Student List: ['Akanksha', 'Bo', 'akk', 'pranav', 'ashno']\n"
     ]
    },
    {
     "name": "stdin",
     "output_type": "stream",
     "text": [
      "Enter a name to remove:  Bo\n"
     ]
    },
    {
     "name": "stdout",
     "output_type": "stream",
     "text": [
      "Bo has been removed.\n",
      "Updated Student List: ['Akanksha', 'akk', 'pranav', 'ashno']\n"
     ]
    }
   ],
   "source": [
    "students = [\"Akanksha\", \"Bo\", \"akk\", \"pranav\", \"ashno\"]\n",
    "\n",
    "print(\"Student List:\", students)\n",
    "\n",
    "\n",
    "name = input(\"Enter a name to remove: \")\n",
    "\n",
    "if name in students:\n",
    "    students.remove(name)\n",
    "    print(f\"{name} has been removed.\")\n",
    "else:\n",
    "    print(f\"{name} not found in the list.\")\n",
    "\n",
    "print(\"Updated Student List:\", students)\n"
   ]
  },
  {
   "cell_type": "code",
   "execution_count": 22,
   "id": "c6037548-3407-4878-9e6a-70b384537bbd",
   "metadata": {},
   "outputs": [
    {
     "data": {
      "text/plain": [
       "3"
      ]
     },
     "execution_count": 22,
     "metadata": {},
     "output_type": "execute_result"
    }
   ],
   "source": [
    "d=tuple('a string with many \"a\"s')\n",
    "d.count('a')"
   ]
  },
  {
   "cell_type": "code",
   "execution_count": 23,
   "id": "c7291a71-8211-4c95-86e0-a1a6439e20b2",
   "metadata": {},
   "outputs": [
    {
     "data": {
      "text/plain": [
       "0"
      ]
     },
     "execution_count": 23,
     "metadata": {},
     "output_type": "execute_result"
    }
   ],
   "source": [
    "d.index('a')"
   ]
  },
  {
   "cell_type": "code",
   "execution_count": 26,
   "id": "729384cc-c945-49cd-a639-0f65eb92f540",
   "metadata": {},
   "outputs": [
    {
     "name": "stdout",
     "output_type": "stream",
     "text": [
      "[0, 1, 2, 3]\n",
      "[4, 5, 6, 7, 8, 9]\n"
     ]
    }
   ],
   "source": [
    "num=[0,1,2,3,4,5,6,7,8,9]\n",
    "print(num[0:4])\n",
    "print(num[4:])"
   ]
  },
  {
   "cell_type": "code",
   "execution_count": 15,
   "id": "a622ec78-550f-4563-8360-0620f09feb1d",
   "metadata": {},
   "outputs": [],
   "source": [
    "set1={9,0,6,7,8}"
   ]
  },
  {
   "cell_type": "code",
   "execution_count": 16,
   "id": "2ad60a68-c50c-4580-8488-14dc4cb6d60f",
   "metadata": {},
   "outputs": [],
   "source": [
    "set2={4,5,6,7,8}"
   ]
  },
  {
   "cell_type": "code",
   "execution_count": 17,
   "id": "b9d04e6a-b3d9-44be-916b-446012fa2dca",
   "metadata": {},
   "outputs": [
    {
     "data": {
      "text/plain": [
       "{0, 4, 5, 6, 7, 8, 9}"
      ]
     },
     "execution_count": 17,
     "metadata": {},
     "output_type": "execute_result"
    }
   ],
   "source": [
    "set1.union(set2)"
   ]
  },
  {
   "cell_type": "code",
   "execution_count": 18,
   "id": "ad6641ee-b3fa-44c3-b727-2f4af0059e47",
   "metadata": {},
   "outputs": [
    {
     "name": "stdout",
     "output_type": "stream",
     "text": [
      "{0, 6, 7, 8, 9}\n"
     ]
    }
   ],
   "source": [
    "set1.update([6])\n",
    "print (set1)"
   ]
  },
  {
   "cell_type": "code",
   "execution_count": 19,
   "id": "018ff8d1-f52d-4fe2-b719-3c208fe4c98d",
   "metadata": {
    "scrolled": true
   },
   "outputs": [
    {
     "name": "stdout",
     "output_type": "stream",
     "text": [
      "{0, 6, 7, 8}\n"
     ]
    }
   ],
   "source": [
    "set1.remove(9)\n",
    "print (set1)"
   ]
  },
  {
   "cell_type": "code",
   "execution_count": 20,
   "id": "fd2a34cf-e463-4e87-bb8d-9da65f161b07",
   "metadata": {},
   "outputs": [],
   "source": [
    "set1.clear()"
   ]
  },
  {
   "cell_type": "code",
   "execution_count": 21,
   "id": "2d567b6d-cdfc-4759-8944-1860f3b4332e",
   "metadata": {},
   "outputs": [
    {
     "data": {
      "text/plain": [
       "set"
      ]
     },
     "execution_count": 21,
     "metadata": {},
     "output_type": "execute_result"
    }
   ],
   "source": [
    "type(set1)"
   ]
  }
 ],
 "metadata": {
  "kernelspec": {
   "display_name": "Python [conda env:base] *",
   "language": "python",
   "name": "conda-base-py"
  },
  "language_info": {
   "codemirror_mode": {
    "name": "ipython",
    "version": 3
   },
   "file_extension": ".py",
   "mimetype": "text/x-python",
   "name": "python",
   "nbconvert_exporter": "python",
   "pygments_lexer": "ipython3",
   "version": "3.13.5"
  }
 },
 "nbformat": 4,
 "nbformat_minor": 5
}
