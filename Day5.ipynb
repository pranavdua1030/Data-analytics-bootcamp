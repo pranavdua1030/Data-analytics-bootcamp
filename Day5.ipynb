{
 "cells": [
  {
   "cell_type": "code",
   "execution_count": 1,
   "id": "8d266b0b-a5f4-4514-8189-40ab95cb911f",
   "metadata": {},
   "outputs": [
    {
     "name": "stdin",
     "output_type": "stream",
     "text": [
      "Enter product name: juice\n",
      "Enter quantity: 23\n",
      "Enter price: 22\n"
     ]
    },
    {
     "name": "stdout",
     "output_type": "stream",
     "text": [
      "juice\n",
      "23\n",
      "22.0\n",
      "506.0\n"
     ]
    }
   ],
   "source": [
    "product = input(\"Enter product name:\")\n",
    "quantity = int(input(\"Enter quantity:\"))\n",
    "price=float(input(\"Enter price:\"))\n",
    "total=quantity*price\n",
    "print(product)\n",
    "print(quantity)\n",
    "print(price)\n",
    "print(total)"
   ]
  },
  {
   "cell_type": "code",
   "execution_count": 2,
   "id": "70adc2f0-ed31-46c7-bbf8-328472436809",
   "metadata": {},
   "outputs": [
    {
     "data": {
      "text/plain": [
       "True"
      ]
     },
     "execution_count": 2,
     "metadata": {},
     "output_type": "execute_result"
    }
   ],
   "source": [
    "bool(1)"
   ]
  },
  {
   "cell_type": "code",
   "execution_count": 3,
   "id": "d337ef02-a67f-45fe-a163-2aaf6a9c8229",
   "metadata": {},
   "outputs": [
    {
     "data": {
      "text/plain": [
       "False"
      ]
     },
     "execution_count": 3,
     "metadata": {},
     "output_type": "execute_result"
    }
   ],
   "source": [
    "bool(0)"
   ]
  },
  {
   "cell_type": "code",
   "execution_count": 4,
   "id": "d28e67ec-1648-4b75-96c3-e3ce92ae4694",
   "metadata": {},
   "outputs": [
    {
     "data": {
      "text/plain": [
       "True"
      ]
     },
     "execution_count": 4,
     "metadata": {},
     "output_type": "execute_result"
    }
   ],
   "source": [
    "bool(\"hello\")\n"
   ]
  },
  {
   "cell_type": "code",
   "execution_count": 38,
   "id": "67eb16e6-a9a6-4c98-ae2c-6aeca6b3954e",
   "metadata": {},
   "outputs": [
    {
     "name": "stdout",
     "output_type": "stream",
     "text": [
      "15\n"
     ]
    }
   ],
   "source": [
    "x='10'\n",
    "print(int(x)+5)"
   ]
  },
  {
   "cell_type": "code",
   "execution_count": 39,
   "id": "e3ec1723-14df-42a0-90d1-a54d3384e847",
   "metadata": {},
   "outputs": [
    {
     "name": "stdout",
     "output_type": "stream",
     "text": [
      "false\n"
     ]
    }
   ],
   "source": [
    "x=0\n",
    "if x:\n",
    "    print('true')\n",
    "else:\n",
    "    print('false')"
   ]
  },
  {
   "cell_type": "code",
   "execution_count": 46,
   "id": "52608b1b-128d-4762-862f-1100cf9ffbaf",
   "metadata": {},
   "outputs": [
    {
     "name": "stdin",
     "output_type": "stream",
     "text": [
      "enter a number: 3\n"
     ]
    },
    {
     "name": "stdout",
     "output_type": "stream",
     "text": [
      "the number is positive\n"
     ]
    }
   ],
   "source": [
    "num=float(input(\"enter a number:\"))\n",
    "if num > 0:\n",
    "          print(\"the number is positive\")"
   ]
  },
  {
   "cell_type": "code",
   "execution_count": 47,
   "id": "f2ef5d25-cb74-40d8-8990-35ce65de3d3a",
   "metadata": {},
   "outputs": [
    {
     "data": {
      "text/plain": [
       "'123'"
      ]
     },
     "execution_count": 47,
     "metadata": {},
     "output_type": "execute_result"
    }
   ],
   "source": [
    "str(123)"
   ]
  },
  {
   "cell_type": "code",
   "execution_count": 48,
   "id": "140ee99e-74c1-481e-9a25-ab03779d1363",
   "metadata": {},
   "outputs": [
    {
     "name": "stdin",
     "output_type": "stream",
     "text": [
      "enter month september\n"
     ]
    },
    {
     "name": "stdout",
     "output_type": "stream",
     "text": [
      "It's Autumn season.\n"
     ]
    }
   ],
   "source": [
    "month=(input(\"enter month\"))\n",
    "if month in ['december', 'january', 'february']:\n",
    "    print(\"It's Winter season.\")\n",
    "elif month in ['march', 'april', 'may']:\n",
    "    print(\"It's Summer season.\")\n",
    "elif month in ['june', 'july', 'august']:\n",
    "    print(\"It's Monsoon season.\")\n",
    "elif month in ['september', 'october', 'november']:\n",
    "    print(\"It's Autumn season.\")\n",
    "else:\n",
    "    print(\"Invalid.\")"
   ]
  },
  {
   "cell_type": "code",
   "execution_count": 49,
   "id": "25d93c83-902a-4e0b-9cb6-3bb260fe7276",
   "metadata": {},
   "outputs": [
    {
     "name": "stdin",
     "output_type": "stream",
     "text": [
      "enter vehichle bike\n"
     ]
    },
    {
     "name": "stdout",
     "output_type": "stream",
     "text": [
      "it will expire in 10 years\n"
     ]
    }
   ],
   "source": [
    "vehicle=(input(\"enter vehichle\"))\n",
    "if vehicle in ['car','bus','truck']:\n",
    "    print(\"it will expire in 15 years\")\n",
    "elif vehicle in ['bike','e bike']:\n",
    "    print(\"it will expire in 10 years\")\n",
    "else:\n",
    "    print(\"vehical ivalid\")\n"
   ]
  },
  {
   "cell_type": "code",
   "execution_count": 50,
   "id": "bd360c4d-6a47-49f9-bb3a-e458ea83c632",
   "metadata": {},
   "outputs": [
    {
     "name": "stdin",
     "output_type": "stream",
     "text": [
      "enter a number: 5\n"
     ]
    },
    {
     "name": "stdout",
     "output_type": "stream",
     "text": [
      "the number is positive\n"
     ]
    }
   ],
   "source": [
    "x=int(input(\"enter a number:\"))\n",
    "if x>0:\n",
    "    print(\"the number is positive\")\n",
    "elif  x<0:\n",
    "    print(\"the number is negative\")\n"
   ]
  },
  {
   "cell_type": "code",
   "execution_count": 51,
   "id": "cd05928d-da9b-4022-8ff2-49fdf2517afe",
   "metadata": {},
   "outputs": [
    {
     "name": "stdout",
     "output_type": "stream",
     "text": [
      "2 x 1 = 2\n",
      "2 x 2 = 4\n",
      "2 x 3 = 6\n",
      "2 x 4 = 8\n",
      "2 x 5 = 10\n",
      "2 x 6 = 12\n",
      "2 x 7 = 14\n",
      "2 x 8 = 16\n",
      "2 x 9 = 18\n",
      "2 x 10 = 20\n"
     ]
    }
   ],
   "source": [
    "i = 1\n",
    "while True:\n",
    "    print(f\"2 x {i} = {2 * i}\")\n",
    "    i += 1\n",
    "    if i > 10:\n",
    "        break\n",
    "  "
   ]
  },
  {
   "cell_type": "code",
   "execution_count": 52,
   "id": "0c733049-5c9d-4a3c-bb8a-3eea67e0b9f8",
   "metadata": {},
   "outputs": [
    {
     "name": "stdin",
     "output_type": "stream",
     "text": [
      "enter password: open123\n"
     ]
    },
    {
     "name": "stdout",
     "output_type": "stream",
     "text": [
      "Access granted\n"
     ]
    }
   ],
   "source": [
    "password=\"open123\"\n",
    "attempt=3\n",
    "\n",
    "while attempt>0:\n",
    "    user=input(\"enter password:\")\n",
    "    if user==password:\n",
    "        print(\"Access granted\")\n",
    "        break\n",
    "    else:\n",
    "        attempt -= 1\n",
    "        print(F\"wrong password! {attempt} attempt left.\")\n",
    "    "
   ]
  },
  {
   "cell_type": "code",
   "execution_count": 57,
   "id": "835c7848-ab4e-43a7-84b0-76068dfb2454",
   "metadata": {},
   "outputs": [
    {
     "name": "stdout",
     "output_type": "stream",
     "text": [
      "0\n",
      "7\n",
      "14\n",
      "21\n",
      "28\n",
      "35\n",
      "42\n",
      "49\n",
      "56\n",
      "63\n",
      "70\n",
      "77\n",
      "84\n",
      "91\n",
      "98\n"
     ]
    }
   ],
   "source": [
    "number=0\n",
    "while number <= 100:\n",
    "    if number % 7 == 0:\n",
    "        print(number)\n",
    "    number += 1 "
   ]
  },
  {
   "cell_type": "code",
   "execution_count": 58,
   "id": "18b74206-4c96-481d-a7fb-00e45cac912a",
   "metadata": {},
   "outputs": [
    {
     "name": "stdout",
     "output_type": "stream",
     "text": [
      "number: 1\n",
      "number: 2\n",
      "number: 3\n",
      "number: 4\n",
      "number: 5\n",
      "number: 6\n",
      "number: 7\n",
      "number: 8\n",
      "number: 9\n"
     ]
    }
   ],
   "source": [
    "for i in range(1,10):\n",
    "    print(\"number:\",i)"
   ]
  },
  {
   "cell_type": "code",
   "execution_count": 59,
   "id": "832b15eb-1762-4651-a90f-479c31a32de3",
   "metadata": {},
   "outputs": [
    {
     "name": "stdin",
     "output_type": "stream",
     "text": [
      "enter a number: 4\n"
     ]
    },
    {
     "name": "stdout",
     "output_type": "stream",
     "text": [
      "4\n",
      "8\n",
      "12\n",
      "16\n",
      "20\n",
      "24\n",
      "28\n",
      "32\n",
      "36\n",
      "40\n"
     ]
    }
   ],
   "source": [
    "num=int(input(\"enter a number:\"))\n",
    "for i in range(1,11):\n",
    "    print(num*i)\n",
    "    "
   ]
  },
  {
   "cell_type": "code",
   "execution_count": 60,
   "id": "6a1b5784-1d03-45d3-bb22-38c1c2e823b7",
   "metadata": {},
   "outputs": [
    {
     "name": "stdin",
     "output_type": "stream",
     "text": [
      "enter password: open 123\n"
     ]
    },
    {
     "name": "stdout",
     "output_type": "stream",
     "text": [
      "wrong password! 2 attempt left.\n"
     ]
    },
    {
     "name": "stdin",
     "output_type": "stream",
     "text": [
      "enter password: open123\n"
     ]
    },
    {
     "name": "stdout",
     "output_type": "stream",
     "text": [
      "Access granted\n"
     ]
    }
   ],
   "source": [
    "password=\"open123\"\n",
    "\n",
    "for attempt in range(3):\n",
    "    user=input(\"enter password:\")\n",
    "    if user==password:\n",
    "        print(\"Access granted\")\n",
    "        break\n",
    "    else:\n",
    "        print(F\"wrong password! {2-attempt} attempt left.\")\n",
    "    "
   ]
  },
  {
   "cell_type": "code",
   "execution_count": 61,
   "id": "5b639393-8375-4dd9-b32b-d9d519e8cd17",
   "metadata": {},
   "outputs": [
    {
     "name": "stdout",
     "output_type": "stream",
     "text": [
      "1\n",
      "2\n",
      "3\n",
      "4\n",
      "6\n",
      "7\n"
     ]
    }
   ],
   "source": [
    "for i in range(1,10):\n",
    "    if i==5:\n",
    "     continue\n",
    "    if i==8:\n",
    "        break\n",
    "    print(i)\n"
   ]
  },
  {
   "cell_type": "code",
   "execution_count": 62,
   "id": "35907842-1c0d-4038-9ee2-3d3fe652f6ce",
   "metadata": {},
   "outputs": [
    {
     "name": "stdout",
     "output_type": "stream",
     "text": [
      "HI\n"
     ]
    }
   ],
   "source": [
    "def pranav():\n",
    "\n",
    "    print(\"HI\")\n",
    "pranav()"
   ]
  },
  {
   "cell_type": "code",
   "execution_count": 63,
   "id": "80086547-8888-4e21-b6f1-c49fcd5727c3",
   "metadata": {},
   "outputs": [
    {
     "name": "stdout",
     "output_type": "stream",
     "text": [
      "3\n"
     ]
    }
   ],
   "source": [
    "def akk():\n",
    "    a=1\n",
    "    b=2\n",
    "    c=a+b\n",
    "    print(c)\n",
    "akk()"
   ]
  },
  {
   "cell_type": "code",
   "execution_count": 64,
   "id": "aaceb8cc-0c1e-44d4-92d7-eba26ae8061f",
   "metadata": {},
   "outputs": [
    {
     "name": "stdout",
     "output_type": "stream",
     "text": [
      "nohtyp\n"
     ]
    }
   ],
   "source": [
    "def  pr():\n",
    "    a=\"python\"\n",
    "    reverse=a[::-1]\n",
    "    print(reverse)\n",
    "pr()"
   ]
  },
  {
   "cell_type": "code",
   "execution_count": 65,
   "id": "f75bbb52-0026-45fd-a2fb-762b2c634744",
   "metadata": {},
   "outputs": [
    {
     "data": {
      "text/plain": [
       "5"
      ]
     },
     "execution_count": 65,
     "metadata": {},
     "output_type": "execute_result"
    }
   ],
   "source": [
    "len('hello')"
   ]
  },
  {
   "cell_type": "code",
   "execution_count": 66,
   "id": "347e4f1f-9c41-41a6-8240-f96fe92fa3c4",
   "metadata": {},
   "outputs": [
    {
     "data": {
      "text/plain": [
       "'p'"
      ]
     },
     "execution_count": 66,
     "metadata": {},
     "output_type": "execute_result"
    }
   ],
   "source": [
    "'python'[0]"
   ]
  },
  {
   "cell_type": "code",
   "execution_count": 67,
   "id": "1962ac6b-02f2-4896-9203-be9ff3137822",
   "metadata": {},
   "outputs": [
    {
     "name": "stdout",
     "output_type": "stream",
     "text": [
      "True\n"
     ]
    }
   ],
   "source": [
    "print(4 != 5)"
   ]
  },
  {
   "cell_type": "code",
   "execution_count": 68,
   "id": "42277a7e-436b-465e-91c6-3bb33d16e2f2",
   "metadata": {},
   "outputs": [
    {
     "data": {
      "text/plain": [
       "False"
      ]
     },
     "execution_count": 68,
     "metadata": {},
     "output_type": "execute_result"
    }
   ],
   "source": [
    "5 > 3 and 2 < 1"
   ]
  },
  {
   "cell_type": "code",
   "execution_count": 69,
   "id": "277492b5-b122-4e79-8e12-85dc8c35976a",
   "metadata": {},
   "outputs": [
    {
     "data": {
      "text/plain": [
       "2.0"
      ]
     },
     "execution_count": 69,
     "metadata": {},
     "output_type": "execute_result"
    }
   ],
   "source": [
    "10 / 5"
   ]
  },
  {
   "cell_type": "code",
   "execution_count": 70,
   "id": "be7125c6-0daf-42d2-9f90-dbab4a8f6791",
   "metadata": {},
   "outputs": [
    {
     "name": "stdout",
     "output_type": "stream",
     "text": [
      "9\n"
     ]
    }
   ],
   "source": [
    "print(3**2)"
   ]
  },
  {
   "cell_type": "code",
   "execution_count": 71,
   "id": "df3c644a-68a9-47ba-b85b-6cc505490729",
   "metadata": {},
   "outputs": [
    {
     "data": {
      "text/plain": [
       "str"
      ]
     },
     "execution_count": 71,
     "metadata": {},
     "output_type": "execute_result"
    }
   ],
   "source": [
    "type('5')"
   ]
  },
  {
   "cell_type": "code",
   "execution_count": 72,
   "id": "fdbb23e4-a23d-4b75-bd38-1c03ca1883ae",
   "metadata": {},
   "outputs": [
    {
     "data": {
      "text/plain": [
       "int"
      ]
     },
     "execution_count": 72,
     "metadata": {},
     "output_type": "execute_result"
    }
   ],
   "source": [
    " type(5)"
   ]
  },
  {
   "cell_type": "code",
   "execution_count": 73,
   "id": "28f38f47-c612-4490-bd51-61a6a1e05ab8",
   "metadata": {},
   "outputs": [
    {
     "name": "stdout",
     "output_type": "stream",
     "text": [
      "Yes\n"
     ]
    }
   ],
   "source": [
    "x = 5\n",
    "if x > 3:\n",
    "    print('Yes')"
   ]
  },
  {
   "cell_type": "code",
   "execution_count": 74,
   "id": "b5b51505-a539-48f2-9b3f-ea7cf4b74fc8",
   "metadata": {},
   "outputs": [
    {
     "name": "stdout",
     "output_type": "stream",
     "text": [
      "OK\n"
     ]
    }
   ],
   "source": [
    "if 5 < 10:\n",
    "    print('OK')\n"
   ]
  },
  {
   "cell_type": "code",
   "execution_count": 76,
   "id": "55a601ef-78f3-422c-a112-a22b68eb4c84",
   "metadata": {},
   "outputs": [
    {
     "name": "stdout",
     "output_type": "stream",
     "text": [
      "0\n",
      "1\n",
      "2\n"
     ]
    }
   ],
   "source": [
    "for i in range(3): print(i)\n"
   ]
  },
  {
   "cell_type": "code",
   "execution_count": 80,
   "id": "6e4ce932-74e9-4a82-b3a4-4c1b9978559d",
   "metadata": {},
   "outputs": [
    {
     "name": "stdout",
     "output_type": "stream",
     "text": [
      "5\n"
     ]
    }
   ],
   "source": [
    " x in [1,2,3]\n",
    "print(x)\n"
   ]
  },
  {
   "cell_type": "code",
   "execution_count": 81,
   "id": "c81fa2ed-cc0f-42df-8306-2ca26b4b3cc2",
   "metadata": {},
   "outputs": [
    {
     "name": "stdout",
     "output_type": "stream",
     "text": [
      "5\n"
     ]
    }
   ],
   "source": [
    "x in [1,2,3]\n",
    "print(x)\n"
   ]
  },
  {
   "cell_type": "code",
   "execution_count": 82,
   "id": "a71c62fe-4afc-45e9-87d3-a72053193d58",
   "metadata": {},
   "outputs": [
    {
     "data": {
      "text/plain": [
       "5"
      ]
     },
     "execution_count": 82,
     "metadata": {},
     "output_type": "execute_result"
    }
   ],
   "source": [
    "len('hello')"
   ]
  },
  {
   "cell_type": "code",
   "execution_count": 83,
   "id": "7d43ca3f-4c19-468e-b261-431658e55800",
   "metadata": {},
   "outputs": [
    {
     "name": "stdout",
     "output_type": "stream",
     "text": [
      "hello world\n"
     ]
    }
   ],
   "source": [
    "a=\"hello world\"\n",
    "print(a)"
   ]
  },
  {
   "cell_type": "code",
   "execution_count": 84,
   "id": "741b5040-5dbb-4731-b0f3-91dec731f406",
   "metadata": {},
   "outputs": [
    {
     "name": "stdout",
     "output_type": "stream",
     "text": [
      "25\n"
     ]
    }
   ],
   "source": [
    "#Write a program to input 2 numbers and print their sum.\n",
    "a=12\n",
    "b=13\n",
    "c=a+b\n",
    "print(c)"
   ]
  },
  {
   "cell_type": "code",
   "execution_count": 33,
   "id": "728ed894-00b0-4de2-b56a-bd987f07876b",
   "metadata": {},
   "outputs": [
    {
     "name": "stdout",
     "output_type": "stream",
     "text": [
      "1\n",
      "2\n",
      "3\n",
      "4\n",
      "5\n",
      "6\n",
      "7\n",
      "8\n"
     ]
    }
   ],
   "source": [
    "i = 0\n",
    "while True:\n",
    "    print( 1 +i)\n",
    "    i += 1\n",
    "    if i > 7:\n",
    "        break"
   ]
  },
  {
   "cell_type": "code",
   "execution_count": 31,
   "id": "380fd71f-476a-499b-aefa-3c70ced76137",
   "metadata": {},
   "outputs": [
    {
     "name": "stdin",
     "output_type": "stream",
     "text": [
      "enter first number 1\n",
      "enter second number 2\n"
     ]
    },
    {
     "name": "stdout",
     "output_type": "stream",
     "text": [
      "the largest no. is b\n"
     ]
    }
   ],
   "source": [
    "a=int(input(\"enter first number\"))\n",
    "b=int(input(\"enter second number\"))\n",
    "if a > b:\n",
    "   print(\"the largest no. is a\")\n",
    "if b > a:\n",
    "   print(\"the largest no. is b\")\n",
    "else:\n",
    "    print(\"Both are equal\")"
   ]
  },
  {
   "cell_type": "code",
   "execution_count": 30,
   "id": "626d35f3-47eb-4b8d-8fd2-8a9eaef522a3",
   "metadata": {},
   "outputs": [
    {
     "name": "stdout",
     "output_type": "stream",
     "text": [
      "432\n"
     ]
    }
   ],
   "source": [
    "def  pr():\n",
    "    a=\"234\"\n",
    "    reverse=a[::-1]\n",
    "    print(reverse)\n",
    "pr()"
   ]
  },
  {
   "cell_type": "code",
   "execution_count": 29,
   "id": "6ee99dcf-a227-4b48-94e0-e6d5b75acfc9",
   "metadata": {},
   "outputs": [
    {
     "name": "stdin",
     "output_type": "stream",
     "text": [
      "Enter a str: pranav\n"
     ]
    },
    {
     "name": "stdout",
     "output_type": "stream",
     "text": [
      "Number of vowels: 2\n"
     ]
    }
   ],
   "source": [
    "text = input(\"Enter a str:\")\n",
    "vowel= 0\n",
    "vowels = \"aeiou\"\n",
    "for char in text:\n",
    "    if char in vowels:\n",
    "        vowel += 1\n",
    "\n",
    "print(\"Number of vowels:\", vowel)\n"
   ]
  },
  {
   "cell_type": "code",
   "execution_count": 28,
   "id": "08675375-c5d4-4b49-a08d-744a61e4e35a",
   "metadata": {},
   "outputs": [
    {
     "name": "stdin",
     "output_type": "stream",
     "text": [
      "Enter a number:  2\n"
     ]
    },
    {
     "name": "stdout",
     "output_type": "stream",
     "text": [
      "The factorial of 2 is 2.\n"
     ]
    }
   ],
   "source": [
    "num = int(input(\"Enter a number: \"))\n",
    "if num < 0:\n",
    "    print(\"Factorial does not in negative numbers.\")\n",
    "elif num == 0:\n",
    "    print(\"The factorial of 0 is 1.\")\n",
    "else:\n",
    "    factorial = 1\n",
    "    for i in range(1, num + 1):\n",
    "        factorial *= i\n",
    "    print(f\"The factorial of {num} is {factorial}.\")\n"
   ]
  },
  {
   "cell_type": "code",
   "execution_count": 27,
   "id": "f9e9cfee-3108-4d79-8194-bf0ae4852cfe",
   "metadata": {},
   "outputs": [
    {
     "name": "stdin",
     "output_type": "stream",
     "text": [
      "Enter a number:  5\n"
     ]
    },
    {
     "name": "stdout",
     "output_type": "stream",
     "text": [
      "5 is a prime number.\n"
     ]
    }
   ],
   "source": [
    "num = int(input(\"Enter a number: \"))\n",
    "\n",
    "if num > 1:\n",
    "    for i in range(2, int(num**0.5) + 1):\n",
    "        if num % i == 0:\n",
    "            print(num, \"is not a prime number.\")\n",
    "            break\n",
    "    else:\n",
    "        print(num, \"is a prime number.\")\n",
    "else:\n",
    "    print(num, \"is not a prime number.\")\n"
   ]
  },
  {
   "cell_type": "code",
   "execution_count": 26,
   "id": "c08fd1f8-ab7c-409f-932f-5a6992ea0b53",
   "metadata": {},
   "outputs": [
    {
     "name": "stdout",
     "output_type": "stream",
     "text": [
      "72\n"
     ]
    }
   ],
   "source": [
    "def ak():\n",
    " a=5\n",
    " b=67\n",
    " print(a+b)\n",
    "ak()\n"
   ]
  },
  {
   "cell_type": "code",
   "execution_count": 24,
   "id": "bf068bd9-7ac4-42d8-90d1-76d7214e5e62",
   "metadata": {},
   "outputs": [
    {
     "name": "stdout",
     "output_type": "stream",
     "text": [
      "17.68\n"
     ]
    }
   ],
   "source": [
    "def simpleinterest():\n",
    " p=34\n",
    " r=26\n",
    " t=2\n",
    " n=100\n",
    " print(p*r*t/n)\n",
    "simpleinterest()\n",
    " "
   ]
  },
  {
   "cell_type": "code",
   "execution_count": 25,
   "id": "661bb7dd-60f6-4e73-b117-bb9cc39bdfa2",
   "metadata": {},
   "outputs": [
    {
     "name": "stdout",
     "output_type": "stream",
     "text": [
      "Sum of natural numbers from 1 to 50 is:\n"
     ]
    }
   ],
   "source": [
    "def sumnatural():\n",
    "    total = 0\n",
    "    for i in range(1, 51):\n",
    "        total += i\n",
    "    return total\n",
    "\n",
    "print(\"Sum of natural numbers from 1 to 50 is:\")\n",
    "\n"
   ]
  },
  {
   "cell_type": "code",
   "execution_count": 23,
   "id": "5d3d12fe-167e-452b-9d18-720a4dc0cf41",
   "metadata": {},
   "outputs": [
    {
     "name": "stdout",
     "output_type": "stream",
     "text": [
      "Sum of odd numbers from 1 to 50 is:\n"
     ]
    },
    {
     "data": {
      "text/plain": [
       "625"
      ]
     },
     "execution_count": 23,
     "metadata": {},
     "output_type": "execute_result"
    }
   ],
   "source": [
    "def sum5():\n",
    "    total = 0\n",
    "    for i in range(1, 51):\n",
    "        if i % 2 != 0:\n",
    "            total += i\n",
    "    print(\"Sum of odd numbers from 1 to 50 is:\")\n",
    "    return total\n",
    "\n",
    "sum5()\n"
   ]
  },
  {
   "cell_type": "code",
   "execution_count": 21,
   "id": "3583bc23-77f5-480d-ac80-06b99bd5802b",
   "metadata": {},
   "outputs": [
    {
     "data": {
      "text/plain": [
       "50"
      ]
     },
     "execution_count": 21,
     "metadata": {},
     "output_type": "execute_result"
    }
   ],
   "source": [
    "def add(a,b):\n",
    "    c=a+b\n",
    "    return c\n",
    "\n",
    "add(20,30)\n"
   ]
  },
  {
   "cell_type": "code",
   "execution_count": 20,
   "id": "4fe5c1e5-0658-4c7f-a42b-d4e695b3d293",
   "metadata": {},
   "outputs": [
    {
     "data": {
      "text/plain": [
       "30"
      ]
     },
     "execution_count": 20,
     "metadata": {},
     "output_type": "execute_result"
    }
   ],
   "source": [
    "def add (a,b):\n",
    "    c=a+b\n",
    "    return c\n",
    "\n",
    "add(10,20)"
   ]
  },
  {
   "cell_type": "code",
   "execution_count": 19,
   "id": "2472a363-8c7b-4331-ae11-649b256becde",
   "metadata": {},
   "outputs": [
    {
     "data": {
      "text/plain": [
       "46"
      ]
     },
     "execution_count": 19,
     "metadata": {},
     "output_type": "execute_result"
    }
   ],
   "source": [
    "add=lambda a,b:a+b\n",
    "add(12,34)"
   ]
  },
  {
   "cell_type": "code",
   "execution_count": 15,
   "id": "ce9faaaf-cb44-4f93-b5c9-77b8d6e39e23",
   "metadata": {},
   "outputs": [
    {
     "name": "stdin",
     "output_type": "stream",
     "text": [
      "Enter a string:  dddf\n"
     ]
    },
    {
     "name": "stdout",
     "output_type": "stream",
     "text": [
      "Reversed string: fddd\n"
     ]
    }
   ],
   "source": [
    "def reverse_string(s):\n",
    "    return s[::-1]\n",
    "    \n",
    "input_string = input(\"Enter a string: \")\n",
    "reversed_string = reverse_string(input_string)\n",
    "print(\"Reversed string:\", reversed_string)\n"
   ]
  },
  {
   "cell_type": "code",
   "execution_count": 18,
   "id": "44a99790-26c5-4359-b7e7-5f14d4515ab6",
   "metadata": {},
   "outputs": [
    {
     "name": "stdout",
     "output_type": "stream",
     "text": [
      "Square: 25\n"
     ]
    }
   ],
   "source": [
    "def square(num):\n",
    "    return num * num\n",
    "result = square(5)\n",
    "print(\"Square:\", result)\n"
   ]
  },
  {
   "cell_type": "code",
   "execution_count": 19,
   "id": "2fdd67af-2fbb-4ab1-a8cd-acb35ecfd4eb",
   "metadata": {},
   "outputs": [
    {
     "name": "stdout",
     "output_type": "stream",
     "text": [
      "Sum: 15\n"
     ]
    }
   ],
   "source": [
    "def addnum(a, b):\n",
    "    return a + b\n",
    "\n",
    "result = addnum(10, 5)\n",
    "print(\"Sum:\", result)\n"
   ]
  },
  {
   "cell_type": "code",
   "execution_count": 17,
   "id": "1b7ef392-1444-4e63-b0db-9ac50f1fcd40",
   "metadata": {},
   "outputs": [
    {
     "name": "stdin",
     "output_type": "stream",
     "text": [
      "Enter a number:  4\n"
     ]
    },
    {
     "name": "stdout",
     "output_type": "stream",
     "text": [
      "4 is even\n"
     ]
    }
   ],
   "source": [
    "def even(number):\n",
    "    return number % 2 == 0\n",
    "\n",
    "num = int(input(\"Enter a number: \"))\n",
    "\n",
    "if even(num):\n",
    "    print(num, \"is even\")\n",
    "else:\n",
    "    print(num, \"is odd\")\n"
   ]
  },
  {
   "cell_type": "code",
   "execution_count": 27,
   "id": "168bd79d-0313-41ae-a200-149f3821979e",
   "metadata": {},
   "outputs": [
    {
     "name": "stdin",
     "output_type": "stream",
     "text": [
      "Enter first number:  4\n",
      "Enter second number:  4\n"
     ]
    },
    {
     "name": "stdout",
     "output_type": "stream",
     "text": [
      "Sum: 8.0\n"
     ]
    }
   ],
   "source": [
    "def numbers(a, b):\n",
    "    return a + b\n",
    "num1 = float(input(\"Enter first number: \"))\n",
    "num2 = float(input(\"Enter second number: \"))\n",
    "\n",
    "result = numbers(num1, num2)\n",
    "print(\"Sum:\", result)\n"
   ]
  },
  {
   "cell_type": "code",
   "execution_count": 10,
   "id": "d102b039-43b0-403f-9110-eaa5e321cc1f",
   "metadata": {},
   "outputs": [
    {
     "name": "stdin",
     "output_type": "stream",
     "text": [
      "Enter a number:  4\n"
     ]
    },
    {
     "name": "stdout",
     "output_type": "stream",
     "text": [
      "Factorial of 4 is 24\n"
     ]
    }
   ],
   "source": [
    "def factorial(n):\n",
    "    if n == 0 or n == 1:\n",
    "        return 1\n",
    "    else:\n",
    "        return n * factorial(n - 1)\n",
    "\n",
    "num = int(input(\"Enter a number: \"))\n",
    "\n",
    "if num < 0:\n",
    "    print(\"Factorial is not defined for negative numbers.\")\n",
    "else:\n",
    "    result = factorial(num)\n",
    "    print(\"Factorial of\", num, \"is\", result)\n"
   ]
  },
  {
   "cell_type": "code",
   "execution_count": 6,
   "id": "cd10d6e7-7e25-4e97-8625-8b97467c7544",
   "metadata": {},
   "outputs": [
    {
     "name": "stdout",
     "output_type": "stream",
     "text": [
      "The largest number is: 42\n"
     ]
    }
   ],
   "source": [
    "def largest(numbers):\n",
    "    if not numbers:\n",
    "        return None \n",
    "    largest = numbers[0]\n",
    "    for num in numbers[1:]:\n",
    "        if num > largest:\n",
    "            largest = num\n",
    "    return largest\n",
    "\n",
    "my_list = [10, 25, 5, 42, 18]\n",
    "print(\"The largest number is:\", largest(my_list))\n"
   ]
  },
  {
   "cell_type": "code",
   "execution_count": 7,
   "id": "787eeed9-5b40-4611-975f-2656057a8f3c",
   "metadata": {},
   "outputs": [
    {
     "data": {
      "text/plain": [
       "[2, 3, 4]"
      ]
     },
     "execution_count": 7,
     "metadata": {},
     "output_type": "execute_result"
    }
   ],
   "source": [
    "list(map(lambda x:x+1, [1,2,3]))"
   ]
  },
  {
   "cell_type": "code",
   "execution_count": 34,
   "id": "a8bacec7-ddc0-4899-be78-2e1d3ba0a20f",
   "metadata": {},
   "outputs": [
    {
     "name": "stdin",
     "output_type": "stream",
     "text": [
      "Enter a string:  yio\n"
     ]
    },
    {
     "name": "stdout",
     "output_type": "stream",
     "text": [
      "It's not a palindrome.\n"
     ]
    }
   ],
   "source": [
    "def palindrome(string):\n",
    "    string = string.replace(\" \", \"\").lower()\n",
    "    \n",
    "    return string == string[::-1]\n",
    "\n",
    "\n",
    "text = input(\"Enter a string: \")\n",
    "if palindrome(text):\n",
    "    print(\"It's a palindrome!\")\n",
    "else:\n",
    "    print(\"It's not a palindrome.\")"
   ]
  },
  {
   "cell_type": "code",
   "execution_count": 3,
   "id": "c29cc202-bc34-490c-b4cd-00add2419a81",
   "metadata": {},
   "outputs": [],
   "source": [
    "def add(x, y=2):\n",
    "    return x + y"
   ]
  },
  {
   "cell_type": "code",
   "execution_count": 8,
   "id": "8825d1ca-e161-41c1-8522-be9b950a6ba9",
   "metadata": {},
   "outputs": [
    {
     "name": "stdin",
     "output_type": "stream",
     "text": [
      "Enter first number:  34\n",
      "Enter second number:  3\n"
     ]
    },
    {
     "name": "stdout",
     "output_type": "stream",
     "text": [
      "Average is: 18.5\n"
     ]
    }
   ],
   "source": [
    "def average(num1, num2):\n",
    "    return (num1 + num2) / 2\n",
    "\n",
    "a = int(input(\"Enter first number: \"))\n",
    "b = int(input(\"Enter second number: \"))\n",
    "print(\"Average is:\", average(a, b))\n"
   ]
  },
  {
   "cell_type": "code",
   "execution_count": 6,
   "id": "d6985388-b850-42ef-be42-3cf328b8eb75",
   "metadata": {},
   "outputs": [
    {
     "name": "stdin",
     "output_type": "stream",
     "text": [
      "Enter a number:  3\n"
     ]
    },
    {
     "name": "stdout",
     "output_type": "stream",
     "text": [
      "Square of the number is: 9\n"
     ]
    }
   ],
   "source": [
    "square = lambda x: x ** 2\n",
    "\n",
    "num = int(input(\"Enter a number: \"))\n",
    "result = square(num)\n",
    "\n",
    "print(\"Square of the number is:\", result)\n"
   ]
  },
  {
   "cell_type": "code",
   "execution_count": 2,
   "id": "eb619140-24ff-407f-af3a-6b9a2ad8f1a4",
   "metadata": {},
   "outputs": [
    {
     "name": "stdout",
     "output_type": "stream",
     "text": [
      "[1, 2, 3, 4, 5, 1]\n"
     ]
    }
   ],
   "source": [
    "#list\n",
    "lst=[1,2,3,4,5]\n",
    "lst.append(1)\n",
    "print(lst)"
   ]
  },
  {
   "cell_type": "code",
   "execution_count": 8,
   "id": "8ae7e6fe-794e-493d-bd89-37b8c827b4d1",
   "metadata": {},
   "outputs": [
    {
     "name": "stdout",
     "output_type": "stream",
     "text": [
      "[1, 2, 3, 4, 'subject', 5, 'subject']\n"
     ]
    }
   ],
   "source": [
    "lst.insert(4,'subject')\n",
    "print(lst)"
   ]
  },
  {
   "cell_type": "code",
   "execution_count": 15,
   "id": "cb501796-933b-4e8b-a0fa-44df086b0ca6",
   "metadata": {},
   "outputs": [
    {
     "name": "stdout",
     "output_type": "stream",
     "text": [
      "[1, 3, 5, 1, 2, 2, 1, 2]\n"
     ]
    }
   ],
   "source": [
    "a=[1,3,5,1,2,2]\n",
    "a.extend([1,2])\n",
    "print(a)"
   ]
  },
  {
   "cell_type": "code",
   "execution_count": 20,
   "id": "77db98d8-7570-4a7a-b292-1c48e7123a1a",
   "metadata": {},
   "outputs": [
    {
     "name": "stdout",
     "output_type": "stream",
     "text": [
      "[1, 2, 3, 4, 5, 6, 7]\n"
     ]
    }
   ],
   "source": [
    "a=[1,2,3,4,5,6,7,8]\n",
    "a.pop(7)\n",
    "print(a)"
   ]
  },
  {
   "cell_type": "code",
   "execution_count": 21,
   "id": "6d851a47-5d43-4e77-922f-cea53afe3cf9",
   "metadata": {},
   "outputs": [
    {
     "name": "stdout",
     "output_type": "stream",
     "text": [
      "[1, 2, 3, 4, 5, 6, 8]\n"
     ]
    }
   ],
   "source": [
    "a=[1,2,3,4,5,6,7,8]\n",
    "a.remove(7)\n",
    "print(a)"
   ]
  },
  {
   "cell_type": "code",
   "execution_count": 31,
   "id": "953b99ef-8e21-4a29-8f75-a7866206ae1a",
   "metadata": {},
   "outputs": [
    {
     "name": "stdout",
     "output_type": "stream",
     "text": [
      "None\n"
     ]
    }
   ],
   "source": [
    "a=[1,2,3,4,5,6,7,8]\n",
    "a.clear()\n",
    "print(a.clear())"
   ]
  },
  {
   "cell_type": "code",
   "execution_count": 24,
   "id": "a0c7c05c-349d-411f-998a-2ddab890ee7c",
   "metadata": {},
   "outputs": [
    {
     "name": "stdout",
     "output_type": "stream",
     "text": [
      "[1, 2, 3, 4, 5, 6, 7, 8]\n"
     ]
    }
   ],
   "source": [
    "a=[1,2,3,4,5,6,7,8]\n",
    "a.index(1)\n",
    "print(a)"
   ]
  },
  {
   "cell_type": "code",
   "execution_count": 28,
   "id": "1269d8f7-ec75-446c-934f-c24b5e851b85",
   "metadata": {},
   "outputs": [
    {
     "name": "stdout",
     "output_type": "stream",
     "text": [
      "5\n"
     ]
    }
   ],
   "source": [
    "a=[1,2,3,4,5,6,7,8,2,2,2,2]\n",
    "a.count(2)\n",
    "print(a.count(2))"
   ]
  },
  {
   "cell_type": "code",
   "execution_count": 32,
   "id": "cfcd0ae7-c466-4ce6-a047-a77fc61c5375",
   "metadata": {},
   "outputs": [
    {
     "name": "stdout",
     "output_type": "stream",
     "text": [
      "[1, 2, 3, 4, 5, 6]\n"
     ]
    }
   ],
   "source": [
    "#2\n",
    "a=[1,2,3]\n",
    "b=[4,5,6]\n",
    "a.extend(b)\n",
    "print(a)"
   ]
  },
  {
   "cell_type": "code",
   "execution_count": 36,
   "id": "a8f9761c-58b5-4609-8ef8-c153cb718bec",
   "metadata": {},
   "outputs": [
    {
     "name": "stdout",
     "output_type": "stream",
     "text": [
      "[10, 20, 25, 30, 40]\n"
     ]
    }
   ],
   "source": [
    "#3\n",
    "l=[10,20,30,40]\n",
    "l.insert(2,25)\n",
    "print(l)"
   ]
  }
 ],
 "metadata": {
  "kernelspec": {
   "display_name": "Python [conda env:base] *",
   "language": "python",
   "name": "conda-base-py"
  },
  "language_info": {
   "codemirror_mode": {
    "name": "ipython",
    "version": 3
   },
   "file_extension": ".py",
   "mimetype": "text/x-python",
   "name": "python",
   "nbconvert_exporter": "python",
   "pygments_lexer": "ipython3",
   "version": "3.13.5"
  }
 },
 "nbformat": 4,
 "nbformat_minor": 5
}
