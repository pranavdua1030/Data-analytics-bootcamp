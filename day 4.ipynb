{
 "cells": [
  {
   "cell_type": "code",
   "execution_count": 3,
   "id": "750d127f-b6ce-4d6e-ac56-bb2b702411c2",
   "metadata": {},
   "outputs": [
    {
     "name": "stdout",
     "output_type": "stream",
     "text": [
      "<class 'float'>\n"
     ]
    }
   ],
   "source": [
    "#type conversion\n",
    "x=10\n",
    "y=float(x)\n",
    "print(type(y))"
   ]
  },
  {
   "cell_type": "code",
   "execution_count": 4,
   "id": "987ef9b4-8f0a-406d-9f5c-941cdd5446b2",
   "metadata": {},
   "outputs": [
    {
     "name": "stdout",
     "output_type": "stream",
     "text": [
      "<class 'float'>\n"
     ]
    }
   ],
   "source": [
    "x=10\n",
    "y=10.5\n",
    "z=x+y\n",
    "print(type(z))"
   ]
  },
  {
   "cell_type": "code",
   "execution_count": 11,
   "id": "6e8f6462-20e2-4ea6-9ea8-583fbbd175af",
   "metadata": {},
   "outputs": [
    {
     "name": "stdout",
     "output_type": "stream",
     "text": [
      "hello\n"
     ]
    }
   ],
   "source": [
    "a=10\n",
    "if a<15:\n",
    "    print(\"hello\")"
   ]
  },
  {
   "cell_type": "code",
   "execution_count": 1,
   "id": "dd0305e6-c90b-4873-b323-d9a29ec8b0c4",
   "metadata": {},
   "outputs": [
    {
     "name": "stdin",
     "output_type": "stream",
     "text": [
      "Enter product name: juice\n",
      "Enter quantity: 12\n",
      "Enter price: 50.5\n"
     ]
    },
    {
     "name": "stdout",
     "output_type": "stream",
     "text": [
      "juice\n",
      "12\n",
      "50.5\n",
      "606.0\n"
     ]
    }
   ],
   "source": [
    "product = input(\"Enter product name:\")\n",
    "quantity = int(input(\"Enter quantity:\"))\n",
    "price=float(input(\"Enter price:\"))\n",
    "total=quantity*price\n",
    "print(product)\n",
    "print(quantity)\n",
    "print(price)\n",
    "print(total)"
   ]
  },
  {
   "cell_type": "code",
   "execution_count": 6,
   "id": "453ef758-8c3e-4e30-82f8-61faa6ee3df0",
   "metadata": {},
   "outputs": [
    {
     "name": "stdin",
     "output_type": "stream",
     "text": [
      "enter number: 5\n"
     ]
    },
    {
     "name": "stdout",
     "output_type": "stream",
     "text": [
      "Positive number\n"
     ]
    }
   ],
   "source": [
    "num=int(input(\"enter number:\"))\n",
    "if num > 0:\n",
    "    print(\"Positive number\")\n",
    "elif num==0:\n",
    "    print(\"Zero\")\n",
    "else:\n",
    "    print(\"Negative number\")\n",
    "\n",
    "   "
   ]
  },
  {
   "cell_type": "code",
   "execution_count": 10,
   "id": "8d137b2b-a477-4085-ab33-c5b9ed84c2f2",
   "metadata": {},
   "outputs": [
    {
     "name": "stdin",
     "output_type": "stream",
     "text": [
      "Age 20\n"
     ]
    },
    {
     "name": "stdout",
     "output_type": "stream",
     "text": [
      "adult\n"
     ]
    }
   ],
   "source": [
    "x=int(input(\"Age\"))\n",
    "if x <13:\n",
    "      print(\"child\")\n",
    "elif x<18 and x>13:\n",
    "      print(\"teen\")\n",
    "else :\n",
    "    print(\"adult\")\n",
    "    \n",
    "      "
   ]
  },
  {
   "cell_type": "code",
   "execution_count": 15,
   "id": "eeafe88f-e523-46a8-8916-82ba141ce59d",
   "metadata": {},
   "outputs": [
    {
     "name": "stdin",
     "output_type": "stream",
     "text": [
      "enter month february\n"
     ]
    },
    {
     "name": "stdout",
     "output_type": "stream",
     "text": [
      "It's Winter season.\n"
     ]
    }
   ],
   "source": [
    "month=(input(\"enter month\"))\n",
    "if month in ['december', 'january', 'february']:\n",
    "    print(\"It's Winter season.\")\n",
    "elif month in ['march', 'april', 'may']:\n",
    "    print(\"It's Summer season.\")\n",
    "elif month in ['june', 'july', 'august']:\n",
    "    print(\"It's Monsoon season.\")\n",
    "elif month in ['september', 'october', 'november']:\n",
    "    print(\"It's Autumn season.\")\n",
    "else:\n",
    "    print(\"Invalid.\")"
   ]
  },
  {
   "cell_type": "code",
   "execution_count": null,
   "id": "961435c0-6bfa-4237-ad74-86d9cb2c9e43",
   "metadata": {},
   "outputs": [],
   "source": []
  }
 ],
 "metadata": {
  "kernelspec": {
   "display_name": "Python [conda env:base] *",
   "language": "python",
   "name": "conda-base-py"
  },
  "language_info": {
   "codemirror_mode": {
    "name": "ipython",
    "version": 3
   },
   "file_extension": ".py",
   "mimetype": "text/x-python",
   "name": "python",
   "nbconvert_exporter": "python",
   "pygments_lexer": "ipython3",
   "version": "3.13.5"
  }
 },
 "nbformat": 4,
 "nbformat_minor": 5
}
