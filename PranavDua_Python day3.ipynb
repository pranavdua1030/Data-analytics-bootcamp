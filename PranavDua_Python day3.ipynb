{
 "cells": [
  {
   "cell_type": "code",
   "execution_count": 9,
   "id": "9f495f5c-6862-4e9d-96b3-d83f63023e36",
   "metadata": {},
   "outputs": [
    {
     "name": "stdout",
     "output_type": "stream",
     "text": [
      "40\n"
     ]
    }
   ],
   "source": [
    "#Assignment\n",
    "#1. Variable Assignment & Sum\n",
    "number1=15\n",
    "number2=25\n",
    "number3=number1+number2\n",
    "print(number3)"
   ]
  },
  {
   "cell_type": "code",
   "execution_count": 5,
   "id": "005cccdf-2c0c-4119-89ff-2b715a2a097b",
   "metadata": {},
   "outputs": [
    {
     "name": "stdout",
     "output_type": "stream",
     "text": [
      "32\n"
     ]
    }
   ],
   "source": [
    "#2. Difference & Product\n",
    "#a\n",
    "num1=50\n",
    "num2=18\n",
    "num3=num1-num2\n",
    "print(num3)"
   ]
  },
  {
   "cell_type": "code",
   "execution_count": 6,
   "id": "9660c4d4-ff49-4b92-938d-139e1d14ea78",
   "metadata": {},
   "outputs": [
    {
     "name": "stdout",
     "output_type": "stream",
     "text": [
      "84\n"
     ]
    }
   ],
   "source": [
    "#b\n",
    "num1=12\n",
    "num2=7\n",
    "num3=num1*num2\n",
    "print(num3)\n"
   ]
  },
  {
   "cell_type": "code",
   "execution_count": 11,
   "id": "0a3bb560-3c53-4fe2-a30a-9d7fa4b4ca34",
   "metadata": {},
   "outputs": [
    {
     "name": "stdout",
     "output_type": "stream",
     "text": [
      "33.333333333333336\n",
      "<class 'float'>\n"
     ]
    }
   ],
   "source": [
    "#3. Division & Modulus\n",
    "#a\n",
    "num1=100\n",
    "num2=3\n",
    "num3=100/3\n",
    "print(num3)\n",
    "print(type(num3))"
   ]
  },
  {
   "cell_type": "code",
   "execution_count": 12,
   "id": "36591bc3-3189-425b-9f6b-7804177966e9",
   "metadata": {},
   "outputs": [
    {
     "name": "stdout",
     "output_type": "stream",
     "text": [
      "1\n"
     ]
    }
   ],
   "source": [
    "#b\n",
    "num1=100\n",
    "num2=3\n",
    "num3=100%3\n",
    "print(num3)\n",
    "\n"
   ]
  },
  {
   "cell_type": "code",
   "execution_count": 14,
   "id": "9cbe636c-d153-4c18-8668-a1bb8e808651",
   "metadata": {},
   "outputs": [
    {
     "name": "stdout",
     "output_type": "stream",
     "text": [
      "8\n",
      "6\n",
      "True\n"
     ]
    }
   ],
   "source": [
    "#4. Boolean Expressions\n",
    "#a •\t(5 + 3) > (10 - 4)\n",
    "a=5\n",
    "b=3\n",
    "c=a+b\n",
    "d=10\n",
    "e=4\n",
    "f=d-e\n",
    "g=c>f\n",
    "print(c)\n",
    "print(f)\n",
    "g=c>f\n",
    "print(g)"
   ]
  },
  {
   "cell_type": "code",
   "execution_count": 16,
   "id": "617a8f73-be73-4103-bacc-53190db460c2",
   "metadata": {},
   "outputs": [
    {
     "name": "stdout",
     "output_type": "stream",
     "text": [
      "10.0\n",
      "True\n"
     ]
    }
   ],
   "source": [
    "#b •\t(20 / 2) == 10\n",
    "a=20\n",
    "b=2\n",
    "c=a/b\n",
    "d=10\n",
    "e=c==d\n",
    "print(c)\n",
    "print(e)"
   ]
  },
  {
   "cell_type": "code",
   "execution_count": 17,
   "id": "7e5b2a5b-5177-4518-824c-04c7673f5ca1",
   "metadata": {},
   "outputs": [
    {
     "name": "stdout",
     "output_type": "stream",
     "text": [
      "False\n",
      "True\n",
      "True\n"
     ]
    }
   ],
   "source": [
    "#c •\t(7 < 5) or (9 != 8)\n",
    "a=7\n",
    "b=5\n",
    "c=a<b\n",
    "d=9\n",
    "e=8\n",
    "f=d!=e\n",
    "g=c or f\n",
    "print(c)\n",
    "print(f)\n",
    "print(g)\n"
   ]
  },
  {
   "cell_type": "code",
   "execution_count": 18,
   "id": "36c59dd4-98c6-4512-a62a-21af80d0a493",
   "metadata": {},
   "outputs": [
    {
     "name": "stdout",
     "output_type": "stream",
     "text": [
      "45\n"
     ]
    }
   ],
   "source": [
    "#5. Type Conversion\n",
    "#a\n",
    "floatnum=45.8\n",
    "intnum=int(floatnum)\n",
    "print(intnum)"
   ]
  },
  {
   "cell_type": "code",
   "execution_count": 19,
   "id": "390cfab8-fe28-48fa-8685-d984bd665c61",
   "metadata": {},
   "outputs": [
    {
     "name": "stdout",
     "output_type": "stream",
     "text": [
      "33.0\n"
     ]
    }
   ],
   "source": [
    "#b\n",
    "intnum=33\n",
    "floatnum=float(intnum)\n",
    "print(floatnum)"
   ]
  },
  {
   "cell_type": "code",
   "execution_count": 20,
   "id": "ebeed524-0daf-4a4a-bb09-dfc540e6b616",
   "metadata": {},
   "outputs": [
    {
     "name": "stdout",
     "output_type": "stream",
     "text": [
      "20.0\n"
     ]
    }
   ],
   "source": [
    "#6. Average of Three Numbers\n",
    "a=10\n",
    "b=20\n",
    "c=30\n",
    "n=3\n",
    "d=a+b+c\n",
    "e=d/n\n",
    "print(e)\n"
   ]
  },
  {
   "cell_type": "code",
   "execution_count": 21,
   "id": "7110fc9d-561d-480a-aa29-0b595d3e430f",
   "metadata": {},
   "outputs": [
    {
     "name": "stdout",
     "output_type": "stream",
     "text": [
      "125\n"
     ]
    }
   ],
   "source": [
    "#7. Power Calculation\n",
    "a=5\n",
    "b=3\n",
    "c=a**b\n",
    "print(c)"
   ]
  },
  {
   "cell_type": "code",
   "execution_count": 24,
   "id": "0160cedb-469c-44e1-98db-5fe98875d4b3",
   "metadata": {},
   "outputs": [
    {
     "name": "stdout",
     "output_type": "stream",
     "text": [
      "37.0\n"
     ]
    }
   ],
   "source": [
    "#8. Temperature Conversion\n",
    "tempf=98.6\n",
    "b=32\n",
    "c=5\n",
    "d=9\n",
    "e=tempf-b\n",
    "f=c/d\n",
    "celcius=e*f\n",
    "print(celcius)"
   ]
  },
  {
   "cell_type": "code",
   "execution_count": 26,
   "id": "0d6beccd-7b52-46c2-8151-07657dede5f7",
   "metadata": {},
   "outputs": [
    {
     "name": "stdout",
     "output_type": "stream",
     "text": [
      "10.0\n"
     ]
    }
   ],
   "source": [
    "#9. Simple Interest Calculation\n",
    "p=100\n",
    "r=5\n",
    "t=2\n",
    "n=100\n",
    "product=p*r*t\n",
    "SI=product/n\n",
    "print(SI)"
   ]
  },
  {
   "cell_type": "code",
   "execution_count": 27,
   "id": "337ebf96-13ae-4fe7-a814-7ee71547adab",
   "metadata": {},
   "outputs": [
    {
     "name": "stdout",
     "output_type": "stream",
     "text": [
      "60.0\n"
     ]
    }
   ],
   "source": [
    "#10. Mixed Arithmetic\n",
    "a=15\n",
    "b=5\n",
    "c=a+b\n",
    "d=20\n",
    "e=8\n",
    "g=4\n",
    "f=d-e\n",
    "h=f/g\n",
    "answer=c*h\n",
    "print(answer)"
   ]
  },
  {
   "cell_type": "code",
   "execution_count": null,
   "id": "4dff2abe-97fe-4730-87a3-4ed9cc386971",
   "metadata": {},
   "outputs": [],
   "source": []
  }
 ],
 "metadata": {
  "kernelspec": {
   "display_name": "Python [conda env:base] *",
   "language": "python",
   "name": "conda-base-py"
  },
  "language_info": {
   "codemirror_mode": {
    "name": "ipython",
    "version": 3
   },
   "file_extension": ".py",
   "mimetype": "text/x-python",
   "name": "python",
   "nbconvert_exporter": "python",
   "pygments_lexer": "ipython3",
   "version": "3.13.5"
  }
 },
 "nbformat": 4,
 "nbformat_minor": 5
}
