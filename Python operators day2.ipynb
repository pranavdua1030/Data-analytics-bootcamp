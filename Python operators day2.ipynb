{
 "cells": [
  {
   "cell_type": "code",
   "execution_count": 14,
   "id": "14282b06-d8e3-4d15-8080-84656af7b4d0",
   "metadata": {},
   "outputs": [
    {
     "name": "stdout",
     "output_type": "stream",
     "text": [
      "30\n"
     ]
    }
   ],
   "source": [
    "#arithmetic operators\n",
    "#+\n",
    "a=10\n",
    "b=20\n",
    "c=a+b\n",
    "print(c)\n",
    "\n"
   ]
  },
  {
   "cell_type": "code",
   "execution_count": 15,
   "id": "a032015c-dd3d-4e13-ac84-4191837e8069",
   "metadata": {},
   "outputs": [
    {
     "name": "stdout",
     "output_type": "stream",
     "text": [
      "-10\n"
     ]
    }
   ],
   "source": [
    "#-\n",
    "a=10\n",
    "b=20\n",
    "c=a-b\n",
    "print(c)"
   ]
  },
  {
   "cell_type": "code",
   "execution_count": 16,
   "id": "4a9467d8-f88d-45c0-94e1-3c6e86bcd3a0",
   "metadata": {},
   "outputs": [
    {
     "name": "stdout",
     "output_type": "stream",
     "text": [
      "0\n"
     ]
    }
   ],
   "source": [
    "#%\n",
    "a=50\n",
    "b=10\n",
    "c=a%b\n",
    "print(c)\n"
   ]
  },
  {
   "cell_type": "code",
   "execution_count": 17,
   "id": "7891b1d2-44ce-4d6e-83d4-f9adade1264c",
   "metadata": {},
   "outputs": [
    {
     "name": "stdout",
     "output_type": "stream",
     "text": [
      "50\n"
     ]
    }
   ],
   "source": [
    "#*\n",
    "a=10\n",
    "b=5\n",
    "c=a*b\n",
    "print(c)"
   ]
  },
  {
   "cell_type": "code",
   "execution_count": 18,
   "id": "abcacafd-3424-4f65-86ef-07a9ebbfbb36",
   "metadata": {},
   "outputs": [
    {
     "name": "stdout",
     "output_type": "stream",
     "text": [
      "1600\n"
     ]
    }
   ],
   "source": [
    "#**\n",
    "a=40\n",
    "b=2\n",
    "c=a**b\n",
    "print(c)"
   ]
  },
  {
   "cell_type": "code",
   "execution_count": 19,
   "id": "d5bebfb4-7894-48b6-b101-f2c7af29d10b",
   "metadata": {},
   "outputs": [
    {
     "name": "stdout",
     "output_type": "stream",
     "text": [
      "25\n"
     ]
    }
   ],
   "source": [
    "#//\n",
    "a=125\n",
    "b=5\n",
    "c=a//b\n",
    "print(c)\n"
   ]
  },
  {
   "cell_type": "code",
   "execution_count": 20,
   "id": "351ad9c3-e42e-4000-bc42-31c5388135b4",
   "metadata": {},
   "outputs": [
    {
     "name": "stdout",
     "output_type": "stream",
     "text": [
      "20.0\n"
     ]
    }
   ],
   "source": [
    "#/\n",
    "a=200\n",
    "b=10\n",
    "c=a/b\n",
    "print(c)"
   ]
  },
  {
   "cell_type": "code",
   "execution_count": 13,
   "id": "8d8db8b5-3381-427d-8e1c-9e4f0ff99677",
   "metadata": {},
   "outputs": [
    {
     "name": "stdout",
     "output_type": "stream",
     "text": [
      "False\n"
     ]
    }
   ],
   "source": [
    "#comparison operators\n",
    "a=3\n",
    "b=4\n",
    "print(a==b)"
   ]
  },
  {
   "cell_type": "code",
   "execution_count": 14,
   "id": "81bea22b-b32b-4029-a3bd-3ce965253f22",
   "metadata": {},
   "outputs": [
    {
     "name": "stdout",
     "output_type": "stream",
     "text": [
      "False\n"
     ]
    }
   ],
   "source": [
    "a=10\n",
    "b=20\n",
    "c=a>b\n",
    "print(c)"
   ]
  },
  {
   "cell_type": "code",
   "execution_count": 15,
   "id": "1cb238a3-dab8-448e-b169-4b267b903b2e",
   "metadata": {},
   "outputs": [
    {
     "name": "stdout",
     "output_type": "stream",
     "text": [
      "True\n"
     ]
    }
   ],
   "source": [
    "a=10\n",
    "b=20\n",
    "c=a<b\n",
    "print(c)"
   ]
  },
  {
   "cell_type": "code",
   "execution_count": 16,
   "id": "53ef51bf-8d48-4f02-b36e-c30383644bd3",
   "metadata": {},
   "outputs": [
    {
     "name": "stdout",
     "output_type": "stream",
     "text": [
      "False\n"
     ]
    }
   ],
   "source": [
    "a=10\n",
    "b=20\n",
    "c=a>=b\n",
    "print(c)"
   ]
  },
  {
   "cell_type": "code",
   "execution_count": 18,
   "id": "c458d143-2cd3-4202-8a9c-ea99aa57c2c1",
   "metadata": {},
   "outputs": [
    {
     "name": "stdout",
     "output_type": "stream",
     "text": [
      "True\n"
     ]
    }
   ],
   "source": [
    "a=10\n",
    "b=20\n",
    "c=a<=b\n",
    "print(c)"
   ]
  },
  {
   "cell_type": "code",
   "execution_count": 19,
   "id": "f4340b2f-a027-4e43-9b7b-56b2e366855b",
   "metadata": {
    "scrolled": true
   },
   "outputs": [
    {
     "name": "stdout",
     "output_type": "stream",
     "text": [
      "True\n"
     ]
    }
   ],
   "source": [
    "a=10\n",
    "b=20\n",
    "c=a!=b\n",
    "print(c)"
   ]
  },
  {
   "cell_type": "code",
   "execution_count": 20,
   "id": "f304619a-6e4e-4d0c-bac2-46232b980239",
   "metadata": {},
   "outputs": [
    {
     "name": "stdout",
     "output_type": "stream",
     "text": [
      "False\n"
     ]
    }
   ],
   "source": [
    "#logical operators\n",
    "a=6\n",
    "b=7\n",
    "print(a==b and b>a)"
   ]
  },
  {
   "cell_type": "code",
   "execution_count": 21,
   "id": "8e1f020d-ce32-4b3d-8d94-6e2e51a03037",
   "metadata": {},
   "outputs": [
    {
     "name": "stdout",
     "output_type": "stream",
     "text": [
      "True\n"
     ]
    }
   ],
   "source": [
    "a=3\n",
    "b=9\n",
    "print(a<=b or a>=b)\n"
   ]
  },
  {
   "cell_type": "code",
   "execution_count": 26,
   "id": "c6eafe7b-716f-45fb-bceb-270605c4a4d6",
   "metadata": {},
   "outputs": [
    {
     "name": "stdout",
     "output_type": "stream",
     "text": [
      "True\n"
     ]
    }
   ],
   "source": [
    "a=8\n",
    "print(not a > 10)"
   ]
  },
  {
   "cell_type": "code",
   "execution_count": 27,
   "id": "27ac272c-4f94-47ed-882b-421edc074fea",
   "metadata": {},
   "outputs": [
    {
     "name": "stdout",
     "output_type": "stream",
     "text": [
      "False\n"
     ]
    }
   ],
   "source": [
    "a=3\n",
    "b=5\n",
    "print(not a< b)"
   ]
  },
  {
   "cell_type": "code",
   "execution_count": 28,
   "id": "c9c2d6ba-f543-4b14-bcf4-7711e73c5d0f",
   "metadata": {},
   "outputs": [
    {
     "name": "stdout",
     "output_type": "stream",
     "text": [
      "True\n"
     ]
    }
   ],
   "source": [
    "#membership operators \n",
    "a=[ 1,2,3,4,5,6,7]\n",
    "print(2 in a)\n"
   ]
  },
  {
   "cell_type": "code",
   "execution_count": 29,
   "id": "78519884-0213-4e89-be98-b84c91782e13",
   "metadata": {},
   "outputs": [
    {
     "name": "stdout",
     "output_type": "stream",
     "text": [
      "False\n"
     ]
    }
   ],
   "source": [
    "a=[ 1,2,3,4,5,6,7]\n",
    "print(8 in a)"
   ]
  },
  {
   "cell_type": "code",
   "execution_count": 30,
   "id": "dde1da87-99a3-4cea-819a-95c24df03dc0",
   "metadata": {},
   "outputs": [
    {
     "name": "stdout",
     "output_type": "stream",
     "text": [
      "True\n"
     ]
    }
   ],
   "source": [
    "a=[ 1,2,3,4,5,6,7]\n",
    "print(10 not in a)"
   ]
  },
  {
   "cell_type": "code",
   "execution_count": 31,
   "id": "49f18f55-fbad-43ee-8f3c-c50ff17e7593",
   "metadata": {},
   "outputs": [
    {
     "name": "stdout",
     "output_type": "stream",
     "text": [
      "False\n"
     ]
    }
   ],
   "source": [
    "a=[ 1,2,3,4,5,6,7]\n",
    "print(4 not in a)"
   ]
  },
  {
   "cell_type": "code",
   "execution_count": 21,
   "id": "a047724c-2828-4a18-b6b3-a407e256b407",
   "metadata": {},
   "outputs": [
    {
     "name": "stdout",
     "output_type": "stream",
     "text": [
      "1\n"
     ]
    }
   ],
   "source": [
    "#bitwise operator \n",
    "# AND&\n",
    "a=5\n",
    "b=3\n",
    "c=a&b\n",
    "print(c)\n"
   ]
  },
  {
   "cell_type": "code",
   "execution_count": 5,
   "id": "0df11f75-363b-4ae7-94d3-e17f0764d0fb",
   "metadata": {},
   "outputs": [
    {
     "name": "stdout",
     "output_type": "stream",
     "text": [
      "6\n"
     ]
    }
   ],
   "source": [
    "#OR^\n",
    "a=5\n",
    "b=3\n",
    "c=a^b\n",
    "print(c)"
   ]
  },
  {
   "cell_type": "code",
   "execution_count": 10,
   "id": "c2c39c2a-5f90-42b6-a7a8-c498c363e865",
   "metadata": {},
   "outputs": [
    {
     "name": "stdout",
     "output_type": "stream",
     "text": [
      "-4\n"
     ]
    }
   ],
   "source": [
    "#NOT~\n",
    "a=3\n",
    "b=~a\n",
    "print(b)\n"
   ]
  },
  {
   "cell_type": "code",
   "execution_count": 11,
   "id": "9cb7d83d-643a-4d9b-9a28-95d3def63152",
   "metadata": {},
   "outputs": [
    {
     "name": "stdout",
     "output_type": "stream",
     "text": [
      "3\n"
     ]
    }
   ],
   "source": [
    "#assignment operator \n",
    "# =\n",
    "a=3\n",
    "print(a)"
   ]
  },
  {
   "cell_type": "code",
   "execution_count": 12,
   "id": "b856ff8c-b212-4c83-b771-f44912b2db3c",
   "metadata": {},
   "outputs": [
    {
     "name": "stdout",
     "output_type": "stream",
     "text": [
      "7\n"
     ]
    }
   ],
   "source": [
    "# +=\n",
    "a=3\n",
    "a+=4\n",
    "print(a)"
   ]
  },
  {
   "cell_type": "code",
   "execution_count": 13,
   "id": "be2393b6-2127-43fd-b1e7-8c82b1c63d65",
   "metadata": {},
   "outputs": [
    {
     "name": "stdout",
     "output_type": "stream",
     "text": [
      "-1\n"
     ]
    }
   ],
   "source": [
    "# -=\n",
    "a=3\n",
    "a-=4\n",
    "print(a)"
   ]
  },
  {
   "cell_type": "code",
   "execution_count": 22,
   "id": "4c498876-e38d-4098-924d-de4a2b901441",
   "metadata": {},
   "outputs": [
    {
     "name": "stdout",
     "output_type": "stream",
     "text": [
      "False\n"
     ]
    }
   ],
   "source": [
    "#identity operator\n",
    "#is\n",
    "a=10,20,30\n",
    "b=a\n",
    "c=10,20,30\n",
    "print(a is c)"
   ]
  },
  {
   "cell_type": "code",
   "execution_count": 23,
   "id": "1fdf97fb-10c6-4389-80a4-a80a699f5cf3",
   "metadata": {},
   "outputs": [
    {
     "name": "stdout",
     "output_type": "stream",
     "text": [
      "True\n"
     ]
    }
   ],
   "source": [
    "a=10,20,30\n",
    "b=a\n",
    "c=10,20,30\n",
    "print(a is b)"
   ]
  },
  {
   "cell_type": "code",
   "execution_count": 24,
   "id": "74a2efc3-a157-4e17-8330-b62ad37fc3fb",
   "metadata": {},
   "outputs": [
    {
     "name": "stdout",
     "output_type": "stream",
     "text": [
      "True\n"
     ]
    }
   ],
   "source": [
    "#is not\n",
    "a=10,20,30\n",
    "b=a\n",
    "c=10,20,30\n",
    "print(a is not c)"
   ]
  },
  {
   "cell_type": "code",
   "execution_count": 25,
   "id": "85839809-2aaa-4123-8d98-11ce12d06feb",
   "metadata": {},
   "outputs": [
    {
     "name": "stdout",
     "output_type": "stream",
     "text": [
      "False\n"
     ]
    }
   ],
   "source": [
    "a=10,20,30\n",
    "b=a\n",
    "c=10,20,30\n",
    "print(a is not b)"
   ]
  },
  {
   "cell_type": "code",
   "execution_count": null,
   "id": "193155b6-9d79-4685-8508-6fc75294a203",
   "metadata": {},
   "outputs": [],
   "source": []
  }
 ],
 "metadata": {
  "kernelspec": {
   "display_name": "Python [conda env:base] *",
   "language": "python",
   "name": "conda-base-py"
  },
  "language_info": {
   "codemirror_mode": {
    "name": "ipython",
    "version": 3
   },
   "file_extension": ".py",
   "mimetype": "text/x-python",
   "name": "python",
   "nbconvert_exporter": "python",
   "pygments_lexer": "ipython3",
   "version": "3.13.5"
  }
 },
 "nbformat": 4,
 "nbformat_minor": 5
}
